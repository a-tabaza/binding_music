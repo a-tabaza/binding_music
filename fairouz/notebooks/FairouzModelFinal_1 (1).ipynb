{
  "nbformat": 4,
  "nbformat_minor": 0,
  "metadata": {
    "colab": {
      "provenance": []
    },
    "kernelspec": {
      "name": "python3",
      "display_name": "Python 3"
    },
    "language_info": {
      "name": "python"
    }
  },
  "cells": [
    {
      "cell_type": "code",
      "source": [
        "import torch\n",
        "import torch.nn as nn\n",
        "import torch.nn.functional as F\n",
        "import numpy as np\n",
        "import math"
      ],
      "metadata": {
        "id": "KYdpmf291V7E"
      },
      "execution_count": 193,
      "outputs": []
    },
    {
      "cell_type": "code",
      "execution_count": 194,
      "metadata": {
        "id": "MHgWRhd0y1uZ"
      },
      "outputs": [],
      "source": [
        "text_embd = torch.from_numpy(np.random.random(1024))\n",
        "img_embd = torch.from_numpy(np.random.random(768))\n",
        "audio_embd = torch.from_numpy(np.random.random(128))\n",
        "graph_embd = torch.from_numpy(np.random.random(32))"
      ]
    },
    {
      "cell_type": "code",
      "source": [
        "class Fairouz(nn.Module):\n",
        "    def __init__(self, out_shape):\n",
        "        super().__init__()\n",
        "        self.linear_1 = nn.Linear(1952, 1952*3)\n",
        "        self.linear_2 = nn.Linear(1952*3, 1952)\n",
        "        self.linear_3 = nn.Linear(1952, out_shape)\n",
        "\n",
        "        self.relu = nn.ReLU()\n",
        "\n",
        "    def forward(self, all_embds):\n",
        "\n",
        "        all_embds = [torch.concat(all_embd) for all_embd in all_embds]\n",
        "        all_embds = torch.from_numpy(np.array(all_embds))\n",
        "        all_embds_reshaped = all_embds.type(torch.FloatTensor)\n",
        "\n",
        "        x = self.relu(self.linear_1(all_embds_reshaped))\n",
        "        x = self.relu(self.linear_2(x))\n",
        "        return self.linear_3(x)"
      ],
      "metadata": {
        "id": "4CNY5lFty425"
      },
      "execution_count": 195,
      "outputs": []
    },
    {
      "cell_type": "code",
      "source": [
        "model = Fairouz(256)\n",
        "embds = model([[text_embd, img_embd, audio_embd, graph_embd],\n",
        "               [text_embd, img_embd, audio_embd, graph_embd],\n",
        "               [text_embd, img_embd, audio_embd, graph_embd],\n",
        "               [text_embd, img_embd, audio_embd, graph_embd]])\n",
        "embds.shape"
      ],
      "metadata": {
        "colab": {
          "base_uri": "https://localhost:8080/"
        },
        "id": "2eueCcje1kiC",
        "outputId": "a481317b-beaf-4c06-93c0-92ef25dd9e49"
      },
      "execution_count": 198,
      "outputs": [
        {
          "output_type": "execute_result",
          "data": {
            "text/plain": [
              "torch.Size([4, 256])"
            ]
          },
          "metadata": {},
          "execution_count": 198
        }
      ]
    },
    {
      "cell_type": "markdown",
      "source": [
        "#### Loss"
      ],
      "metadata": {
        "id": "XYqck9xd-1vS"
      }
    },
    {
      "cell_type": "code",
      "source": [
        "class ContrastiveLoss(nn.Module):\n",
        "    def __init__(self, model, margin =0.5, size_average: bool = True):\n",
        "\n",
        "      super(ContrastiveLoss, self).__init__()\n",
        "      self.distance_metric = lambda x, y: 1 - F.cosine_similarity(x, y)\n",
        "      self.margin = margin\n",
        "      self.model = model\n",
        "      self.size_average = size_average\n",
        "\n",
        "    def forward(self, embedding_anchor, embedding_other, label):\n",
        "      reps = self.model([embedding_anchor, embedding_other])\n",
        "      assert len(reps) == 2\n",
        "      rep_anchor, rep_other = reps\n",
        "      distances = self.distance_metric(rep_anchor.reshape(-1, 1), rep_other.reshape(-1, 1))\n",
        "      losses = 0.5 * (\n",
        "          label.float() * distances.pow(2) + (1 - label).float() * F.relu(self.margin - distances).pow(2)\n",
        "      )\n",
        "      return losses.mean() if self.size_average else losses.sum()"
      ],
      "metadata": {
        "id": "pFJ3cpqx-3Ud"
      },
      "execution_count": 189,
      "outputs": []
    },
    {
      "cell_type": "code",
      "source": [
        "loss = ContrastiveLoss(model, margin = 0.5)\n",
        "\n",
        "# 1 if positive, 0 if negative\n",
        "labels = torch.tensor([0])\n",
        "\n",
        "loss([text_embd*-332, img_embd*-335, audio_embd*-334, graph_embd*-332], \\\n",
        "     [text_embd, img_embd, audio_embd, graph_embd], \\\n",
        "     label = labels)"
      ],
      "metadata": {
        "colab": {
          "base_uri": "https://localhost:8080/"
        },
        "id": "OFlSsT8qAodI",
        "outputId": "75df114a-8b94-4362-8012-9fd9fb30db0f"
      },
      "execution_count": 205,
      "outputs": [
        {
          "output_type": "execute_result",
          "data": {
            "text/plain": [
              "tensor(0.0737, grad_fn=<MeanBackward0>)"
            ]
          },
          "metadata": {},
          "execution_count": 205
        }
      ]
    }
  ]
}